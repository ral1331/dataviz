{
  "nbformat": 4,
  "nbformat_minor": 0,
  "metadata": {
    "colab": {
      "name": "t-SNE Visualization Tutorial",
      "version": "0.3.2",
      "provenance": [],
      "collapsed_sections": [],
      "include_colab_link": true
    },
    "kernelspec": {
      "name": "python3",
      "display_name": "Python 3"
    },
    "accelerator": "GPU"
  },
  "cells": [
    {
      "cell_type": "markdown",
      "metadata": {
        "id": "view-in-github",
        "colab_type": "text"
      },
      "source": [
        "[View in Colaboratory](https://colab.research.google.com/github/ryanlakritz/dataviz/blob/master/t_SNE_Visualization_Tutorial.ipynb)"
      ]
    },
    {
      "metadata": {
        "id": "WRGt0y6l_gkv",
        "colab_type": "text"
      },
      "cell_type": "markdown",
      "source": [
        "#t-SNE Tensor Visualization Tutorial"
      ]
    },
    {
      "metadata": {
        "id": "KBxgy3iod6kS",
        "colab_type": "text"
      },
      "cell_type": "markdown",
      "source": [
        "## **Getting Started:**\n",
        "1. Use Google Chrome\n",
        "\n",
        "2. Run first two chunks using the [*Play Button*] on the top left corner of each chunk\n",
        "    1. The first chunk imports a number of packages for data manipulation and visualization\n",
        "    2.  The function *configure_plotly_browser_state()* allows plotly to show in the notebook\n",
        "    \n",
        "3. Enable 3rd party cookies (also necessary for plotly to show in the notebook). Don't worry, you can block them again afterwards.\n",
        "    1. settings\n",
        "    2. search \"cookies\"\n",
        "    3. content settings\n",
        "    4. cookies\n",
        "    5. Uncheck \"Block third-party cookies\"\n",
        "\n",
        "4. Click [+] CODE (above) to add a new chunk of code after  *configure_plotly_browser_state()*"
      ]
    },
    {
      "metadata": {
        "id": "rRlK5VWX_cpP",
        "colab_type": "code",
        "colab": {}
      },
      "cell_type": "code",
      "source": [
        "%matplotlib inline\n",
        "import matplotlib.pyplot as plt\n",
        "import pandas as pd\n",
        "import numpy as np\n",
        "from sklearn.manifold import TSNE\n",
        "\n",
        "import plotly.graph_objs as go\n",
        "from plotly.offline import init_notebook_mode, iplot, plot\n",
        "\n",
        "# lets numpy print longer lines for displaying matrices\n",
        "np.set_printoptions(linewidth=1000)"
      ],
      "execution_count": 0,
      "outputs": []
    },
    {
      "metadata": {
        "id": "Zj2U9y2iZdEG",
        "colab_type": "code",
        "colab": {}
      },
      "cell_type": "code",
      "source": [
        "# setup plotly function to work in colab (make sure to enable 3rd party cookies)\n",
        "def configure_plotly_browser_state():\n",
        "    import IPython\n",
        "    display(IPython.core.display.HTML('''\n",
        "        <script src=\"/static/components/requirejs/require.js\"></script>\n",
        "        <script>\n",
        "          requirejs.config({\n",
        "            paths: {\n",
        "              base: '/static/base',\n",
        "              plotly: 'https://cdn.plot.ly/plotly-1.5.1.min.js?noext',\n",
        "            },\n",
        "          });\n",
        "        </script>\n",
        "        '''))\n",
        "init_notebook_mode(connected=False)"
      ],
      "execution_count": 0,
      "outputs": []
    },
    {
      "metadata": {
        "id": "KwHol6IAa4Lb",
        "colab_type": "text"
      },
      "cell_type": "markdown",
      "source": [
        "The following code reads in a dataset that is publicly hosted on *pjreddie.com*. The first line reads the csv with the pandas function *read_csv()*, specifying that no header exists in the dataset, and saves it as the variable **df**. The second line displays the \"head\", first n-rows of data. Now we can see what the data we're working with looks like."
      ]
    },
    {
      "metadata": {
        "id": "o_UeQvsJRqID",
        "colab_type": "code",
        "colab": {
          "base_uri": "https://localhost:8080/",
          "height": 233
        },
        "outputId": "72ee52c4-7aaa-4c69-8c17-bebbbea01953"
      },
      "cell_type": "code",
      "source": [
        "data = pd.read_csv(\"https://pjreddie.com/media/files/mnist_train.csv\", header=None)\n",
        "data.head()"
      ],
      "execution_count": 0,
      "outputs": [
        {
          "output_type": "execute_result",
          "data": {
            "text/html": [
              "<div>\n",
              "<style scoped>\n",
              "    .dataframe tbody tr th:only-of-type {\n",
              "        vertical-align: middle;\n",
              "    }\n",
              "\n",
              "    .dataframe tbody tr th {\n",
              "        vertical-align: top;\n",
              "    }\n",
              "\n",
              "    .dataframe thead th {\n",
              "        text-align: right;\n",
              "    }\n",
              "</style>\n",
              "<table border=\"1\" class=\"dataframe\">\n",
              "  <thead>\n",
              "    <tr style=\"text-align: right;\">\n",
              "      <th></th>\n",
              "      <th>0</th>\n",
              "      <th>1</th>\n",
              "      <th>2</th>\n",
              "      <th>3</th>\n",
              "      <th>4</th>\n",
              "      <th>5</th>\n",
              "      <th>6</th>\n",
              "      <th>7</th>\n",
              "      <th>8</th>\n",
              "      <th>9</th>\n",
              "      <th>...</th>\n",
              "      <th>775</th>\n",
              "      <th>776</th>\n",
              "      <th>777</th>\n",
              "      <th>778</th>\n",
              "      <th>779</th>\n",
              "      <th>780</th>\n",
              "      <th>781</th>\n",
              "      <th>782</th>\n",
              "      <th>783</th>\n",
              "      <th>784</th>\n",
              "    </tr>\n",
              "  </thead>\n",
              "  <tbody>\n",
              "    <tr>\n",
              "      <th>0</th>\n",
              "      <td>5</td>\n",
              "      <td>0</td>\n",
              "      <td>0</td>\n",
              "      <td>0</td>\n",
              "      <td>0</td>\n",
              "      <td>0</td>\n",
              "      <td>0</td>\n",
              "      <td>0</td>\n",
              "      <td>0</td>\n",
              "      <td>0</td>\n",
              "      <td>...</td>\n",
              "      <td>0</td>\n",
              "      <td>0</td>\n",
              "      <td>0</td>\n",
              "      <td>0</td>\n",
              "      <td>0</td>\n",
              "      <td>0</td>\n",
              "      <td>0</td>\n",
              "      <td>0</td>\n",
              "      <td>0</td>\n",
              "      <td>0</td>\n",
              "    </tr>\n",
              "    <tr>\n",
              "      <th>1</th>\n",
              "      <td>0</td>\n",
              "      <td>0</td>\n",
              "      <td>0</td>\n",
              "      <td>0</td>\n",
              "      <td>0</td>\n",
              "      <td>0</td>\n",
              "      <td>0</td>\n",
              "      <td>0</td>\n",
              "      <td>0</td>\n",
              "      <td>0</td>\n",
              "      <td>...</td>\n",
              "      <td>0</td>\n",
              "      <td>0</td>\n",
              "      <td>0</td>\n",
              "      <td>0</td>\n",
              "      <td>0</td>\n",
              "      <td>0</td>\n",
              "      <td>0</td>\n",
              "      <td>0</td>\n",
              "      <td>0</td>\n",
              "      <td>0</td>\n",
              "    </tr>\n",
              "    <tr>\n",
              "      <th>2</th>\n",
              "      <td>4</td>\n",
              "      <td>0</td>\n",
              "      <td>0</td>\n",
              "      <td>0</td>\n",
              "      <td>0</td>\n",
              "      <td>0</td>\n",
              "      <td>0</td>\n",
              "      <td>0</td>\n",
              "      <td>0</td>\n",
              "      <td>0</td>\n",
              "      <td>...</td>\n",
              "      <td>0</td>\n",
              "      <td>0</td>\n",
              "      <td>0</td>\n",
              "      <td>0</td>\n",
              "      <td>0</td>\n",
              "      <td>0</td>\n",
              "      <td>0</td>\n",
              "      <td>0</td>\n",
              "      <td>0</td>\n",
              "      <td>0</td>\n",
              "    </tr>\n",
              "    <tr>\n",
              "      <th>3</th>\n",
              "      <td>1</td>\n",
              "      <td>0</td>\n",
              "      <td>0</td>\n",
              "      <td>0</td>\n",
              "      <td>0</td>\n",
              "      <td>0</td>\n",
              "      <td>0</td>\n",
              "      <td>0</td>\n",
              "      <td>0</td>\n",
              "      <td>0</td>\n",
              "      <td>...</td>\n",
              "      <td>0</td>\n",
              "      <td>0</td>\n",
              "      <td>0</td>\n",
              "      <td>0</td>\n",
              "      <td>0</td>\n",
              "      <td>0</td>\n",
              "      <td>0</td>\n",
              "      <td>0</td>\n",
              "      <td>0</td>\n",
              "      <td>0</td>\n",
              "    </tr>\n",
              "    <tr>\n",
              "      <th>4</th>\n",
              "      <td>9</td>\n",
              "      <td>0</td>\n",
              "      <td>0</td>\n",
              "      <td>0</td>\n",
              "      <td>0</td>\n",
              "      <td>0</td>\n",
              "      <td>0</td>\n",
              "      <td>0</td>\n",
              "      <td>0</td>\n",
              "      <td>0</td>\n",
              "      <td>...</td>\n",
              "      <td>0</td>\n",
              "      <td>0</td>\n",
              "      <td>0</td>\n",
              "      <td>0</td>\n",
              "      <td>0</td>\n",
              "      <td>0</td>\n",
              "      <td>0</td>\n",
              "      <td>0</td>\n",
              "      <td>0</td>\n",
              "      <td>0</td>\n",
              "    </tr>\n",
              "  </tbody>\n",
              "</table>\n",
              "<p>5 rows × 785 columns</p>\n",
              "</div>"
            ],
            "text/plain": [
              "   0    1    2    3    4    5    6    7    8    9   ...   775  776  777  778  \\\n",
              "0    5    0    0    0    0    0    0    0    0    0 ...     0    0    0    0   \n",
              "1    0    0    0    0    0    0    0    0    0    0 ...     0    0    0    0   \n",
              "2    4    0    0    0    0    0    0    0    0    0 ...     0    0    0    0   \n",
              "3    1    0    0    0    0    0    0    0    0    0 ...     0    0    0    0   \n",
              "4    9    0    0    0    0    0    0    0    0    0 ...     0    0    0    0   \n",
              "\n",
              "   779  780  781  782  783  784  \n",
              "0    0    0    0    0    0    0  \n",
              "1    0    0    0    0    0    0  \n",
              "2    0    0    0    0    0    0  \n",
              "3    0    0    0    0    0    0  \n",
              "4    0    0    0    0    0    0  \n",
              "\n",
              "[5 rows x 785 columns]"
            ]
          },
          "metadata": {
            "tags": []
          },
          "execution_count": 37
        }
      ]
    },
    {
      "metadata": {
        "id": "QWuFegXaCJld",
        "colab_type": "text"
      },
      "cell_type": "markdown",
      "source": [
        "We see that the dataset has 785 columns: \n",
        ">The value of each row is defined by the first column, column 0. For example, the first row represents a '5'.\n",
        "\n",
        ">The remaining columns (1 - 784) each define a single pixel of a drawing of that row's value. For example, columns 1-784 represent all the pixels of a drawing of a '5'. "
      ]
    },
    {
      "metadata": {
        "id": "KP7hkKybEPND",
        "colab_type": "text"
      },
      "cell_type": "markdown",
      "source": [
        "One thing that we also see in this dataset and have to clean up are the column names. They're currently stored as numeric column names, which can work, but it's easier to work with column names that are strings.\n",
        "\n",
        "To do this, first create a new empty array variable called *col_names*. The next line uses a **for-loop** to paste together the string \"pixel_\" with the number of the column. Next, rename the first entry in that array (element 0 because python is 0-indexed) to 'value'. *print()* will display the array you now have. Finally, define the dataframes column names to *col_names*."
      ]
    },
    {
      "metadata": {
        "id": "7d29jRRlhJz4",
        "colab_type": "code",
        "colab": {}
      },
      "cell_type": "code",
      "source": [
        "col_names = []\n",
        "col_names = ['pixel_'+str(col) for col in data.columns]\n",
        "col_names[0] = 'value'\n",
        "\n",
        "print(col_names)\n",
        "\n",
        "data.columns = col_names\n",
        "data.head()"
      ],
      "execution_count": 0,
      "outputs": []
    },
    {
      "metadata": {
        "id": "5qKUpStTIxH-",
        "colab_type": "text"
      },
      "cell_type": "markdown",
      "source": [
        "This sets up the two main dataframes that we'll be working with for this project: **train** and **pixel**. **train** is a random sample of 5000 entries from the dataframe -- we need to reset the index so that the entries have a new index from 0-4999. **pixel** is mostly the same as **train**, but without the *value* column. It additionally specifies that we only want the *.values*, a clean array for each row of data. Defining this new dataframe will make a few things later easier.\n",
        "\n",
        "One thing that happens in the first line is called method-chaining. This is when multiple functions (methods) are applied in sequential order. First we get random sample of df, and then reset the index of the resulting dataframe."
      ]
    },
    {
      "metadata": {
        "id": "eh8tTzMKqGaX",
        "colab_type": "code",
        "colab": {}
      },
      "cell_type": "code",
      "source": [
        "df = data.sample(n=5000).reset_index(drop=True)\n",
        "\n",
        "pixels = df.drop('value', axis=1).values"
      ],
      "execution_count": 0,
      "outputs": []
    },
    {
      "metadata": {
        "id": "5tzOjtl7MKCX",
        "colab_type": "text"
      },
      "cell_type": "markdown",
      "source": [
        "Let's take a look at how this dataframe actually represents a number. The 784 pixels are really a 28X28 matrix. Each value represents the intensity of that pixel. We can reshape and display the first row to look like a 28X28 matrix.\n",
        "1. *[0]* filters down to just the first row of the dataframe\n",
        "2. reshape it as a 28X28 matrix"
      ]
    },
    {
      "metadata": {
        "id": "2RPMrc1xtJPx",
        "colab_type": "code",
        "colab": {
          "base_uri": "https://localhost:8080/",
          "height": 493
        },
        "outputId": "d2ec18e8-8c53-4590-bb93-0d4adbd6bee7"
      },
      "cell_type": "code",
      "source": [
        "first_val = pixels[0].reshape((28,28))\n",
        "print(first_val)"
      ],
      "execution_count": 0,
      "outputs": [
        {
          "output_type": "stream",
          "text": [
            "[[  0   0   0   0   0   0   0   0   0   0   0   0   0   0   0   0   0   0   0   0   0   0   0   0   0   0   0   0]\n",
            " [  0   0   0   0   0   0   0   0   0   0   0   0   0   0   0   0   0   0   0   0   0   0   0   0   0   0   0   0]\n",
            " [  0   0   0   0   0   0   0   0   0   0   0   0   0   0   0   0   0   0   0   0   0   0   0   0   0   0   0   0]\n",
            " [  0   0   0   0   0   0   0   0   0   0   0   0   0   0   0   0   0   0   0   0   0   0   0   0   0   0   0   0]\n",
            " [  0   0   0   0   0   0   0   0   0   0   0   0   0   0   0   0   0   0   0   0   0   0   0   0   0   0   0   0]\n",
            " [  0   0   0   0   0   0   0   0  86 253 255 253 198  85  86  85   0   0   0   0   0   0   0   0   0   0   0   0]\n",
            " [  0   0   0   0   0   0   0   0  85 251 253 251 253 251 253 251 169  56   0   0   0   0   0   0   0   0   0   0]\n",
            " [  0   0   0   0   0   0   0   0  85 253 254 253 254 253 254 253 254 253 254  84   0   0   0   0   0   0   0   0]\n",
            " [  0   0   0   0   0   0   0   0  28 196 253 251 253 251 253 251 253 251 253 196   0   0   0   0   0   0   0   0]\n",
            " [  0   0   0   0   0   0   0   0   0   0   0   0   0   0 169 168 169 225 254 253   0   0   0   0   0   0   0   0]\n",
            " [  0   0   0   0   0   0   0   0   0   0   0   0   0   0   0   0   0 168 253 251   0   0   0   0   0   0   0   0]\n",
            " [  0   0   0   0   0   0   0   0   0   0   0   0   0   0   0   0  29 197 254 253   0   0   0   0   0   0   0   0]\n",
            " [  0   0   0   0   0   0   0   0   0   0   0   0   0   0   0 114 197 251 253 138   0   0   0   0   0   0   0   0]\n",
            " [  0   0   0   0   0   0   0   0   0   0   0   0  29 197 141 139 254 196   0   0   0   0   0   0   0   0   0   0]\n",
            " [  0   0   0   0   0   0   0   0   0   0   0   0  85 251 253 251 253 196   0   0   0   0   0   0   0   0   0   0]\n",
            " [  0   0   0   0   0   0   0   0   0   0   0   0  85 253 254 253 254 253  57   0   0   0   0   0   0   0   0   0]\n",
            " [  0   0   0   0   0   0   0   0   0   0   0   0  28 196 253 251 253 251 225  56   0   0   0   0   0   0   0   0]\n",
            " [  0   0   0   0   0   0   0   0   0   0   0   0   0   0   0   0  57 225 254  84   0   0   0   0   0   0   0   0]\n",
            " [  0   0   0   0   0   0   0   0   0   0   0   0   0   0   0   0   0  56 139  83   0   0   0   0   0   0   0   0]\n",
            " [  0   0   0   0   0   0   0 169  85  28   0   0   0   0   0   0   0   0  85  84   0   0   0   0   0   0   0   0]\n",
            " [  0   0   0   0   0   0   0 168 253  83   0   0   0   0   0   0   0   0  85  83   0   0   0   0   0   0   0   0]\n",
            " [  0   0   0   0   0   0   0 114 254 253 198  85  57   0   0  57  29  85 254  84   0   0   0   0   0   0   0   0]\n",
            " [  0   0   0   0   0   0   0 114 253 251 253 251 225 168 169 224  85 251 196  28   0   0   0   0   0   0   0   0]\n",
            " [  0   0   0   0   0   0   0   0 198 196 254 253 254 253 254 253  57  56   0   0   0   0   0   0   0   0   0   0]\n",
            " [  0   0   0   0   0   0   0   0  28  28  84 196 253 251 253 138   0   0   0   0   0   0   0   0   0   0   0   0]\n",
            " [  0   0   0   0   0   0   0   0   0   0   0   0   0   0   0   0   0   0   0   0   0   0   0   0   0   0   0   0]\n",
            " [  0   0   0   0   0   0   0   0   0   0   0   0   0   0   0   0   0   0   0   0   0   0   0   0   0   0   0   0]\n",
            " [  0   0   0   0   0   0   0   0   0   0   0   0   0   0   0   0   0   0   0   0   0   0   0   0   0   0   0   0]]\n"
          ],
          "name": "stdout"
        }
      ]
    },
    {
      "metadata": {
        "id": "6hdkC4yUOvy7",
        "colab_type": "text"
      },
      "cell_type": "markdown",
      "source": [
        "Using matplotlib, we can also visualize it on a graph."
      ]
    },
    {
      "metadata": {
        "id": "6ypLU0vdtJWa",
        "colab_type": "code",
        "colab": {
          "base_uri": "https://localhost:8080/",
          "height": 288
        },
        "outputId": "d26a1e28-a3bc-4a90-9c18-822c886eb520"
      },
      "cell_type": "code",
      "source": [
        "plt.matshow(first_val)"
      ],
      "execution_count": 0,
      "outputs": [
        {
          "output_type": "execute_result",
          "data": {
            "text/plain": [
              "<matplotlib.image.AxesImage at 0x7f141bbe14a8>"
            ]
          },
          "metadata": {
            "tags": []
          },
          "execution_count": 47
        },
        {
          "output_type": "display_data",
          "data": {
            "image/png": "[encoded data removed]",
            "text/plain": [
              "<matplotlib.figure.Figure at 0x7f141bc3c518>"
            ]
          },
          "metadata": {
            "tags": []
          }
        }
      ]
    },
    {
      "metadata": {
        "id": "UceIkX9HPcI8",
        "colab_type": "text"
      },
      "cell_type": "markdown",
      "source": [
        "Let's plot some more.\n",
        "\n",
        "First, we define a new matplotlib *figure* as *fig* and give it a size. Then we set up a for loop to plot the first ten numbers. For each loop, add a new subplot and specify its position in the figure. Finally, plot each entry onto the figure -- this uses similar syntax to *first_val*, but replaces 'loc[0]' with 'loc[i]'."
      ]
    },
    {
      "metadata": {
        "id": "l0DhhotCRyNr",
        "colab_type": "code",
        "colab": {}
      },
      "cell_type": "code",
      "source": [
        "# plot more entries\n",
        "fig = plt.figure(figsize=(16,7))\n",
        "for i in range(10):\n",
        "    subplot = fig.add_subplot(2,5,i+1) # specifies 2X5 subplot with position i+1\n",
        "    subplot.matshow(pixels[i].reshape((28,28)))\n"
      ],
      "execution_count": 0,
      "outputs": []
    },
    {
      "metadata": {
        "id": "ukkd1CbzRGe2",
        "colab_type": "text"
      },
      "cell_type": "markdown",
      "source": [
        "Now for t-SNE:\n",
        "\n",
        "The **scikit-learn** package makes the syntax incredibly easy to set up. First define a new model, specifying a few argument. You could theoretically just set *n_components*, but the others make the model fit better for this dataset.\n",
        "\n",
        "Fit the model on **pixels**. Because we set *verbose=1*, it will show a few of the steps that it's going through while fitting. *Mean sigma, KL divergence, and Error after n iterations*  are all checks of measurements that the model is evaluating itself on.\n",
        "\n",
        "This may take a couple minutes"
      ]
    },
    {
      "metadata": {
        "id": "BRsBtuqwYESp",
        "colab_type": "code",
        "colab": {
          "base_uri": "https://localhost:8080/",
          "height": 204
        },
        "outputId": "2d2f284a-2c9a-4577-d51f-2ddb6c12216a"
      },
      "cell_type": "code",
      "source": [
        "tsne = TSNE(n_components=2, verbose=1, perplexity=40, n_iter=700)\n",
        "tsne_results = tsne.fit_transform(pixels)"
      ],
      "execution_count": 0,
      "outputs": [
        {
          "output_type": "stream",
          "text": [
            "[t-SNE] Computing 121 nearest neighbors...\n",
            "[t-SNE] Indexed 5000 samples in 0.238s...\n",
            "[t-SNE] Computed neighbors for 5000 samples in 33.921s...\n",
            "[t-SNE] Computed conditional probabilities for sample 1000 / 5000\n",
            "[t-SNE] Computed conditional probabilities for sample 2000 / 5000\n",
            "[t-SNE] Computed conditional probabilities for sample 3000 / 5000\n",
            "[t-SNE] Computed conditional probabilities for sample 4000 / 5000\n",
            "[t-SNE] Computed conditional probabilities for sample 5000 / 5000\n",
            "[t-SNE] Mean sigma: 492.073737\n",
            "[t-SNE] KL divergence after 250 iterations with early exaggeration: 81.377739\n",
            "[t-SNE] Error after 700 iterations: 1.531116\n"
          ],
          "name": "stdout"
        }
      ]
    },
    {
      "metadata": {
        "id": "LkdxNWsdZh5S",
        "colab_type": "text"
      },
      "cell_type": "markdown",
      "source": [
        "Save the results as two new columns in **df**"
      ]
    },
    {
      "metadata": {
        "id": "_B4k36-8UjKa",
        "colab_type": "code",
        "colab": {}
      },
      "cell_type": "code",
      "source": [
        "df['x-tsne'] = tsne_results[:,0]\n",
        "df['y-tsne'] = tsne_results[:,1]"
      ],
      "execution_count": 0,
      "outputs": []
    },
    {
      "metadata": {
        "id": "CtobZltWZwcv",
        "colab_type": "text"
      },
      "cell_type": "markdown",
      "source": [
        "Create a custom color palette for t-sne plots, using colors from color brewer. \n",
        "1. Go to colorbrewer2.org and select a qualitative color scheme with 10 data classes. This link has one all set: http://colorbrewer2.org/#type=qualitative&scheme=Paired&n=10\n",
        "2. Click 'Export'\n",
        "3. Copy the JavaScript array (same as Python) and create a new array called *colors*\n",
        "\n",
        "\n",
        "Now, you have to map those colors to the each of the distinct values in the dataset (0-9). Each value will get its own distinct color. *map()* allows you to map a function to a set of values. we will essentially be mapping the color palette to the values in the dataset. The way to do this is using **lambda x**. **lambda x:** says that you want to apply the same function to each line of the series -- this one specifies that each 'value' gets that index of *colors*.\n",
        ">e.g. value=0 maps to '#a6cee3'; value=3 maps to '#33a02c'\n"
      ]
    },
    {
      "metadata": {
        "id": "j9jz4Ub0acgO",
        "colab_type": "code",
        "colab": {}
      },
      "cell_type": "code",
      "source": [
        "colors = ['#a6cee3','#1f78b4','#b2df8a','#33a02c','#fb9a99','#e31a1c','#fdbf6f','#ff7f00','#cab2d6','#6a3d9a']\n",
        "\n",
        "\n",
        "color_map = map(lambda x: colors[x], df['value'])\n",
        "df['color'] = list(color_map)"
      ],
      "execution_count": 0,
      "outputs": []
    },
    {
      "metadata": {
        "id": "Ay8T17Zbd4lg",
        "colab_type": "text"
      },
      "cell_type": "markdown",
      "source": [
        "Make a scatterplot using matplotlib. You'll be setting *x, y, c (color), and alpha*"
      ]
    },
    {
      "metadata": {
        "id": "YYXDoUTnZvN_",
        "colab_type": "code",
        "colab": {}
      },
      "cell_type": "code",
      "source": [
        "fig = plt.subplots(figsize=(10,6))\n",
        "plt.scatter(x=df['x-tsne'], y=df['y-tsne'], c=df['color'], alpha=0.5)"
      ],
      "execution_count": 0,
      "outputs": []
    },
    {
      "metadata": {
        "id": "BLAQ5yp0elk7",
        "colab_type": "text"
      },
      "cell_type": "markdown",
      "source": [
        "Now to create a 3-D t-SNE model and visualization. It uses largely the same modeling, except that *n_components=3*."
      ]
    },
    {
      "metadata": {
        "id": "cFu6_8gHjYGc",
        "colab_type": "code",
        "colab": {
          "base_uri": "https://localhost:8080/",
          "height": 204
        },
        "outputId": "3657f24f-2d15-4a9d-b0f4-49dfc7c4c248"
      },
      "cell_type": "code",
      "source": [
        "tsne = TSNE(n_components=3, verbose=1, perplexity=40, n_iter=700)\n",
        "tsne_results = tsne.fit_transform(pixels)"
      ],
      "execution_count": 0,
      "outputs": [
        {
          "output_type": "stream",
          "text": [
            "[t-SNE] Computing 121 nearest neighbors...\n",
            "[t-SNE] Indexed 5000 samples in 0.237s...\n",
            "[t-SNE] Computed neighbors for 5000 samples in 34.474s...\n",
            "[t-SNE] Computed conditional probabilities for sample 1000 / 5000\n",
            "[t-SNE] Computed conditional probabilities for sample 2000 / 5000\n",
            "[t-SNE] Computed conditional probabilities for sample 3000 / 5000\n",
            "[t-SNE] Computed conditional probabilities for sample 4000 / 5000\n",
            "[t-SNE] Computed conditional probabilities for sample 5000 / 5000\n",
            "[t-SNE] Mean sigma: 492.073737\n",
            "[t-SNE] KL divergence after 250 iterations with early exaggeration: 81.481133\n",
            "[t-SNE] Error after 700 iterations: 1.319182\n"
          ],
          "name": "stdout"
        }
      ]
    },
    {
      "metadata": {
        "id": "PTxGrITkd0lV",
        "colab_type": "code",
        "colab": {}
      },
      "cell_type": "code",
      "source": [
        "df['x-tsne'] = tsne_results[:,0]\n",
        "df['y-tsne'] = tsne_results[:,1]\n",
        "df['z-tsne'] = tsne_results[:,2]"
      ],
      "execution_count": 0,
      "outputs": []
    },
    {
      "metadata": {
        "id": "dc3Vk76Ie-e_",
        "colab_type": "text"
      },
      "cell_type": "markdown",
      "source": [
        "Now plotting with the plotly package. Plotly is great for quick interactive plots, with fairly straightforward syntax.\n",
        "\n",
        "Make sure to call *configure_plotly_browser_state()* if doing this in Google Colab -- it is necessary for it to render in the web browser.\n",
        "\n",
        "Then create a new plotly 3-D scatter object called *scatter*. Define *x,y, and z* to establish the positions on the graph. Set *mode='text'* for the scatter plot, so that we can plot the numbers themselves instead of just dots on the chart. Then define *text* as the values, and *textfont* (this has to be a dictionary as it can take in multiple arguments for the font). The scatter object has to be wrapped in **[ ]** because it must be an array.\n",
        "\n",
        "Create a figure object called *fig* and finally call iplot on the figure."
      ]
    },
    {
      "metadata": {
        "id": "7THb-Fy08Qx1",
        "colab_type": "code",
        "colab": {}
      },
      "cell_type": "code",
      "source": [
        "# plot in plotly\n",
        "configure_plotly_browser_state()\n",
        "\n",
        "scatter = [go.Scatter3d(\n",
        "    x=df['x-tsne'],\n",
        "    y=df['y-tsne'],\n",
        "    z=df['z-tsne'],\n",
        "    mode='text',\n",
        "    text=df['value'],\n",
        "    textfont=dict(\n",
        "        color=df['color']\n",
        "    )\n",
        ")]\n",
        "\n",
        "fig = go.Figure(data=scatter)\n",
        "\n",
        "iplot(fig)\n"
      ],
      "execution_count": 0,
      "outputs": []
    },
    {
      "metadata": {
        "id": "waW-SxasQGoh",
        "colab_type": "code",
        "colab": {}
      },
      "cell_type": "code",
      "source": [
        ""
      ],
      "execution_count": 0,
      "outputs": []
    }
  ]
}